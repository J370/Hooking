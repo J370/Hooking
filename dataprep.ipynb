{
 "cells": [
  {
   "cell_type": "markdown",
   "metadata": {},
   "source": [
    "# Data Preperation \n",
    "Prepares the TEACO data for training with Keras YOLO v3.\n",
    "Converts the annotations from the COCO dataset format to the the Yolo v3 data format.\n"
   ]
  },
  {
   "cell_type": "markdown",
   "metadata": {},
   "source": [
    "## Setup & Imports"
   ]
  },
  {
   "cell_type": "code",
   "execution_count": 38,
   "metadata": {},
   "outputs": [],
   "source": [
    "from pycocotools.coco import COCO\n",
    "import os\n",
    "import numpy as np\n",
    "import skimage.io as matplotlib\n",
    "import matplotlib.pyplot \n",
    "\n",
    "%matplotlib inline"
   ]
  },
  {
   "cell_type": "markdown",
   "metadata": {},
   "source": [
    "## Load Coco Annotations\n",
    "Load COCO annotations using PY coco API"
   ]
  },
  {
   "cell_type": "code",
   "execution_count": 47,
   "metadata": {},
   "outputs": [
    {
     "name": "stdout",
     "output_type": "stream",
     "text": [
      "loading annotations into memory...\n",
      "Done (t=0.02s)\n",
      "creating index...\n",
      "index created!\n"
     ]
    }
   ],
   "source": [
    "DATA_DIR = \"./data/TACO/data\"\n",
    "ANNOTATIONS = \"./data/TACO/data/annotations.json\"\n",
    "dataset_coco = COCO(ANNOTATIONS)"
   ]
  },
  {
   "cell_type": "markdown",
   "metadata": {},
   "source": [
    "## Extract Bounding Boxes\n",
    "Extract bounding box annotations for each image"
   ]
  },
  {
   "cell_type": "code",
   "execution_count": 29,
   "metadata": {},
   "outputs": [],
   "source": [
    "def unpack_annotation(dataset_coco, annotation_id):\n",
    "    annotations = dataset_coco.loadAnns(annotation_id)\n",
    "    assert len(annotations) == 1\n",
    "    bound_box = annotations[0][\"bbox\"]\n",
    "    class_id = annotations[0][\"category_id\"]\n",
    "    \n",
    "    return {\"bound_box\": bound_box, \"class\": class_id}\n",
    "\n",
    "def extract_bound_boxes(dataset_coco, image_id):\n",
    "    # find annotations for image id \n",
    "    annotate_ids = dataset_coco.getAnnIds(imgIds=[image_id])\n",
    "    # extract bounding box & class for each annotation\n",
    "    return list(map((lambda aid: unpack_annotation(dataset_coco, \n",
    "                                                   aid)), \n",
    "                                                   annotate_ids))"
   ]
  },
  {
   "cell_type": "code",
   "execution_count": 37,
   "metadata": {},
   "outputs": [],
   "source": [
    "boxes_annotations = list(map((lambda img_id: extract_bound_boxes(dataset_coco, img_id)), \n",
    "                             dataset_coco.getImgIds()))"
   ]
  },
  {
   "cell_type": "markdown",
   "metadata": {},
   "source": [
    "## Compile Image Paths"
   ]
  },
  {
   "cell_type": "code",
   "execution_count": 48,
   "metadata": {},
   "outputs": [],
   "source": [
    "def get_file_path(dataset_coco, dataset_path, img_id):\n",
    "    metadata = dataset_coco.loadImgs(img_id)[0]\n",
    "    return os.path.join(dataset_path, metadata[\"file_name\"])"
   ]
  },
  {
   "cell_type": "code",
   "execution_count": 55,
   "metadata": {},
   "outputs": [],
   "source": [
    "img_paths = list(map((lambda img_id: get_file_path(dataset_coco, DATA_DIR, img_id)), \n",
    "                     dataset_coco.getImgIds()))"
   ]
  },
  {
   "cell_type": "markdown",
   "metadata": {},
   "source": [
    "## Convert to Yolo v3 Annotation Format\n",
    "According to the [docs](https://github.com/qqwweee/keras-yolo3):\n",
    "```\n",
    "One row for one image;\n",
    "Row format: image_file_path box1 box2 ... boxN;\n",
    "Box format: x_min,y_min,x_max,y_max,class_id (no space).\n",
    "```"
   ]
  },
  {
   "cell_type": "code",
   "execution_count": 77,
   "metadata": {},
   "outputs": [],
   "source": [
    "def convert_format(img_path, boxes_annotations):\n",
    "    # convert box annotations to box format\n",
    "    boxes_str = \"\"\n",
    "    for annotation in boxes_annotations:\n",
    "        box_str = [ str(int(x)) for x in annotation[\"bound_box\"] ]\n",
    "        boxes_str += \",\".join(box_str)\n",
    "        boxes_str += \",\" + str(annotation[\"class\"])\n",
    "\n",
    "    # add img path\n",
    "    return img_path + \" \" + boxes_str"
   ]
  },
  {
   "cell_type": "code",
   "execution_count": 84,
   "metadata": {},
   "outputs": [],
   "source": [
    "annotation_rows =  list(map((lambda args: convert_format(*args)), \n",
    "                            zip(img_paths, boxes_annotations)))\n",
    "annotation = \"\\n\".join(annotation_rows) + \"\\n\""
   ]
  },
  {
   "cell_type": "markdown",
   "metadata": {},
   "source": [
    "## Commit Annotation to Disk for Training"
   ]
  },
  {
   "cell_type": "code",
   "execution_count": 85,
   "metadata": {},
   "outputs": [],
   "source": [
    "with open(\"./tools/keras-yolo3/train.txt\", \"w\") as f:\n",
    "    f.write(annotation)"
   ]
  },
  {
   "cell_type": "markdown",
   "metadata": {},
   "source": [
    "## Save Class Names"
   ]
  },
  {
   "cell_type": "code",
   "execution_count": 99,
   "metadata": {},
   "outputs": [],
   "source": [
    "class_metas = [ dataset_coco.loadCats(i)[0] for i in dataset_coco.getCatIds() ]\n",
    "classes = [ meta[\"name\"] for meta in class_metas ]\n",
    "classes = \"\\n\".join(classes) + \"\\n\""
   ]
  },
  {
   "cell_type": "code",
   "execution_count": 102,
   "metadata": {},
   "outputs": [],
   "source": [
    "with open(\"./tools/keras-yolo3/model_data/voc_classes.txt\", \"w\") as f:\n",
    "    f.write(classes)"
   ]
  }
 ],
 "metadata": {
  "kernelspec": {
   "display_name": "hooking",
   "language": "python",
   "name": "hooking"
  },
  "language_info": {
   "codemirror_mode": {
    "name": "ipython",
    "version": 3
   },
   "file_extension": ".py",
   "mimetype": "text/x-python",
   "name": "python",
   "nbconvert_exporter": "python",
   "pygments_lexer": "ipython3",
   "version": "3.5.2"
  }
 },
 "nbformat": 4,
 "nbformat_minor": 4
}
